{
  "nbformat": 4,
  "nbformat_minor": 0,
  "metadata": {
    "colab": {
      "name": "FirstDemo.ipynb",
      "provenance": [],
      "authorship_tag": "ABX9TyMf3zpPA6DONyFoi+rU+En/",
      "include_colab_link": true
    },
    "kernelspec": {
      "name": "python3",
      "display_name": "Python 3"
    }
  },
  "cells": [
    {
      "cell_type": "markdown",
      "metadata": {
        "id": "view-in-github",
        "colab_type": "text"
      },
      "source": [
        "<a href=\"https://colab.research.google.com/github/continuum-ovais-koti/general-programming/blob/master/FirstDemo.ipynb\" target=\"_parent\"><img src=\"https://colab.research.google.com/assets/colab-badge.svg\" alt=\"Open In Colab\"/></a>"
      ]
    },
    {
      "cell_type": "code",
      "metadata": {
        "id": "Z8I8kCbuZoZ3",
        "colab_type": "code",
        "colab": {
          "base_uri": "https://localhost:8080/",
          "height": 34
        },
        "outputId": "45005f09-4a38-469f-e31b-bc791af565c2"
      },
      "source": [
        "print(\"Hello\")"
      ],
      "execution_count": 1,
      "outputs": [
        {
          "output_type": "stream",
          "text": [
            "Hello\n"
          ],
          "name": "stdout"
        }
      ]
    },
    {
      "cell_type": "code",
      "metadata": {
        "id": "SFzBD4Ltawtr",
        "colab_type": "code",
        "colab": {}
      },
      "source": [
        "import requests\n",
        "from bs4 import BeautifulSoup\n",
        "import smtplib"
      ],
      "execution_count": 2,
      "outputs": []
    },
    {
      "cell_type": "code",
      "metadata": {
        "id": "M8vfOzO2bMja",
        "colab_type": "code",
        "colab": {}
      },
      "source": [
        "url = \"https://www.flipkart.com/canon-eos-3000d-dslr-camera-single-kit-18-55-lens-16-gb-memory-card-carry-case/p/itmf3dhjyznuhayu?pid=CAMF3DHJURPEMNRN&lid=LSTCAMF3DHJURPEMNRNYD4BKP&fm=neo%2Fmerchandising&iid=M_2cda307d-53f8-4c6e-b96e-715ba147127c_3.UOC3343UE1PK&ssid=y4et2snssw0000001599127435627&otracker=hp_omu_Flipstart%2BDeals%2BOf%2BThe%2BDay_2_3.dealCard.OMU_Flipstart%2BDeals%2BOf%2BThe%2BDay_UOC3343UE1PK_2&otracker1=hp_omu_SECTIONED_neo%2Fmerchandising_Flipstart%2BDeals%2BOf%2BThe%2BDay_NA_dealCard_cc_2_NA_view-all_2&cid=UOC3343UE1PK\""
      ],
      "execution_count": 3,
      "outputs": []
    },
    {
      "cell_type": "code",
      "metadata": {
        "id": "dVqIHN4TbWfA",
        "colab_type": "code",
        "colab": {}
      },
      "source": [
        "headers = {\"user-agent\":\"Mozilla/5.0 (Windows NT 10.0; Win64; x64) AppleWebKit/537.36 (KHTML, like Gecko) Chrome/84.0.4147.135 Safari/537.36\"}"
      ],
      "execution_count": 4,
      "outputs": []
    },
    {
      "cell_type": "code",
      "metadata": {
        "id": "XbL1e4yrbmHX",
        "colab_type": "code",
        "colab": {}
      },
      "source": [
        "page = requests.get(url, headers=headers)"
      ],
      "execution_count": 5,
      "outputs": []
    },
    {
      "cell_type": "code",
      "metadata": {
        "id": "PJFIOjuibuOP",
        "colab_type": "code",
        "colab": {}
      },
      "source": [
        "soup=BeautifulSoup(page.content, 'html.parser')"
      ],
      "execution_count": 7,
      "outputs": []
    },
    {
      "cell_type": "code",
      "metadata": {
        "id": "q75lRm5Xb_PP",
        "colab_type": "code",
        "colab": {}
      },
      "source": [
        "print(soup.prettify())"
      ],
      "execution_count": null,
      "outputs": []
    },
    {
      "cell_type": "code",
      "metadata": {
        "id": "oqcHjyzWcK9p",
        "colab_type": "code",
        "colab": {
          "base_uri": "https://localhost:8080/",
          "height": 34
        },
        "outputId": "4dcee8f9-3cb0-4a23-b1fb-48a78e949002"
      },
      "source": [
        "print( soup.title.string)"
      ],
      "execution_count": 15,
      "outputs": [
        {
          "output_type": "stream",
          "text": [
            "Canon 3000D - Buy Canon EOS 3000D DSLR Camera with 18-55 lens | Flipkart.com\n"
          ],
          "name": "stdout"
        }
      ]
    },
    {
      "cell_type": "code",
      "metadata": {
        "id": "mL8N4jWec56M",
        "colab_type": "code",
        "colab": {}
      },
      "source": [
        "for url in soup.find_all('a'):\n",
        "  print(url.get('href'))"
      ],
      "execution_count": null,
      "outputs": []
    },
    {
      "cell_type": "code",
      "metadata": {
        "id": "9lxpX3DFdNZX",
        "colab_type": "code",
        "colab": {}
      },
      "source": [
        "print(soup.get_text())"
      ],
      "execution_count": null,
      "outputs": []
    },
    {
      "cell_type": "code",
      "metadata": {
        "id": "huR6dERgeHu4",
        "colab_type": "code",
        "colab": {}
      },
      "source": [
        "mydivs = soup.findAll(\"div\", {\"class\": \"_1vC4OE _3qQ9m1\"})"
      ],
      "execution_count": 19,
      "outputs": []
    },
    {
      "cell_type": "code",
      "metadata": {
        "id": "hSatqLTbeQgA",
        "colab_type": "code",
        "colab": {
          "base_uri": "https://localhost:8080/",
          "height": 34
        },
        "outputId": "d87b16e2-1165-4097-8f51-32c0933b1567"
      },
      "source": [
        "print(mydivs[0].get_text())"
      ],
      "execution_count": 22,
      "outputs": [
        {
          "output_type": "stream",
          "text": [
            "₹24,999\n"
          ],
          "name": "stdout"
        }
      ]
    }
  ]
}